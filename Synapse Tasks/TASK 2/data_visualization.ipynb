{
  "nbformat": 4,
  "nbformat_minor": 0,
  "metadata": {
    "colab": {
      "name": "Untitled0.ipynb",
      "provenance": [],
      "collapsed_sections": []
    },
    "kernelspec": {
      "name": "python3",
      "display_name": "Python 3"
    }
  },
  "cells": [
    {
      "cell_type": "code",
      "metadata": {
        "id": "woLIpBKUsSz9",
        "colab_type": "code",
        "colab": {}
      },
      "source": [
        "import json\n",
        "import pandas as pd"
      ],
      "execution_count": 4,
      "outputs": []
    },
    {
      "cell_type": "code",
      "metadata": {
        "id": "SRauFpC_si2Q",
        "colab_type": "code",
        "colab": {}
      },
      "source": [
        "r = open('data.json')\n",
        "record_data = json.load(r)"
      ],
      "execution_count": 5,
      "outputs": []
    },
    {
      "cell_type": "code",
      "metadata": {
        "id": "QEGJKHxtcXBq",
        "colab_type": "code",
        "colab": {}
      },
      "source": [
        "df = pd.json_normalize(record_data['data'])"
      ],
      "execution_count": 6,
      "outputs": []
    },
    {
      "cell_type": "code",
      "metadata": {
        "id": "AxVDr2XQX_X4",
        "colab_type": "code",
        "colab": {
          "base_uri": "https://localhost:8080/",
          "height": 289
        },
        "outputId": "5cfc2cc1-8ae2-427c-9117-a53d56dbfe87"
      },
      "source": [
        "df.head()"
      ],
      "execution_count": 7,
      "outputs": [
        {
          "output_type": "execute_result",
          "data": {
            "text/html": [
              "<div>\n",
              "<style scoped>\n",
              "    .dataframe tbody tr th:only-of-type {\n",
              "        vertical-align: middle;\n",
              "    }\n",
              "\n",
              "    .dataframe tbody tr th {\n",
              "        vertical-align: top;\n",
              "    }\n",
              "\n",
              "    .dataframe thead th {\n",
              "        text-align: right;\n",
              "    }\n",
              "</style>\n",
              "<table border=\"1\" class=\"dataframe\">\n",
              "  <thead>\n",
              "    <tr style=\"text-align: right;\">\n",
              "      <th></th>\n",
              "      <th>category</th>\n",
              "      <th>event_name</th>\n",
              "      <th>gender</th>\n",
              "      <th>age</th>\n",
              "      <th>marital_status</th>\n",
              "      <th>session_id</th>\n",
              "      <th>device</th>\n",
              "      <th>client_time</th>\n",
              "      <th>location.latitude</th>\n",
              "      <th>location.city</th>\n",
              "      <th>location.state</th>\n",
              "      <th>location.longitude</th>\n",
              "      <th>location.zip_code</th>\n",
              "      <th>amount</th>\n",
              "    </tr>\n",
              "  </thead>\n",
              "  <tbody>\n",
              "    <tr>\n",
              "      <th>0</th>\n",
              "      <td>Sports</td>\n",
              "      <td>View Project</td>\n",
              "      <td>M</td>\n",
              "      <td>18-24</td>\n",
              "      <td>married</td>\n",
              "      <td>69f62d2ae87640f5a2dde2b2e9229fe6</td>\n",
              "      <td>android</td>\n",
              "      <td>1393632004</td>\n",
              "      <td>40.189788</td>\n",
              "      <td>Lyons</td>\n",
              "      <td>CO</td>\n",
              "      <td>-105.355280</td>\n",
              "      <td>80540</td>\n",
              "      <td>NaN</td>\n",
              "    </tr>\n",
              "    <tr>\n",
              "      <th>1</th>\n",
              "      <td>Technology</td>\n",
              "      <td>View Project</td>\n",
              "      <td>M</td>\n",
              "      <td>18-24</td>\n",
              "      <td>single</td>\n",
              "      <td>4459d001feb8438eae5f4ec24abcd992</td>\n",
              "      <td>iOS</td>\n",
              "      <td>1393632022</td>\n",
              "      <td>33.844371</td>\n",
              "      <td>Alpharetta</td>\n",
              "      <td>GA</td>\n",
              "      <td>-84.474050</td>\n",
              "      <td>30009</td>\n",
              "      <td>NaN</td>\n",
              "    </tr>\n",
              "    <tr>\n",
              "      <th>2</th>\n",
              "      <td>Environment</td>\n",
              "      <td>View Project</td>\n",
              "      <td>M</td>\n",
              "      <td>55+</td>\n",
              "      <td>single</td>\n",
              "      <td>0db9ed700a184d48a9d04806696e3642</td>\n",
              "      <td>iOS</td>\n",
              "      <td>1393632032</td>\n",
              "      <td>42.446396</td>\n",
              "      <td>Westford</td>\n",
              "      <td>MA</td>\n",
              "      <td>-71.459405</td>\n",
              "      <td>01886</td>\n",
              "      <td>NaN</td>\n",
              "    </tr>\n",
              "    <tr>\n",
              "      <th>3</th>\n",
              "      <td>Technology</td>\n",
              "      <td>View Project</td>\n",
              "      <td>M</td>\n",
              "      <td>18-24</td>\n",
              "      <td>single</td>\n",
              "      <td>68195e2372bd4022b17220fc21de9138</td>\n",
              "      <td>android</td>\n",
              "      <td>1393632038</td>\n",
              "      <td>44.624413</td>\n",
              "      <td>Saranac</td>\n",
              "      <td>NY</td>\n",
              "      <td>-73.809266</td>\n",
              "      <td>12981</td>\n",
              "      <td>NaN</td>\n",
              "    </tr>\n",
              "    <tr>\n",
              "      <th>4</th>\n",
              "      <td>Sports</td>\n",
              "      <td>View Project</td>\n",
              "      <td>F</td>\n",
              "      <td>25-34</td>\n",
              "      <td>married</td>\n",
              "      <td>9508a8385dc94773baba8aa7d1c2aa75</td>\n",
              "      <td>iOS</td>\n",
              "      <td>1393632051</td>\n",
              "      <td>36.747083</td>\n",
              "      <td>Lampe</td>\n",
              "      <td>MO</td>\n",
              "      <td>-93.458626</td>\n",
              "      <td>65681</td>\n",
              "      <td>NaN</td>\n",
              "    </tr>\n",
              "  </tbody>\n",
              "</table>\n",
              "</div>"
            ],
            "text/plain": [
              "      category    event_name  ... location.zip_code amount\n",
              "0       Sports  View Project  ...             80540    NaN\n",
              "1   Technology  View Project  ...             30009    NaN\n",
              "2  Environment  View Project  ...             01886    NaN\n",
              "3   Technology  View Project  ...             12981    NaN\n",
              "4       Sports  View Project  ...             65681    NaN\n",
              "\n",
              "[5 rows x 14 columns]"
            ]
          },
          "metadata": {
            "tags": []
          },
          "execution_count": 7
        }
      ]
    },
    {
      "cell_type": "code",
      "metadata": {
        "id": "tytorFMOc8Pb",
        "colab_type": "code",
        "colab": {
          "base_uri": "https://localhost:8080/",
          "height": 405
        },
        "outputId": "8cb8988a-0682-477e-c2ca-29b168b94e83"
      },
      "source": [
        "df.describe(include='all')"
      ],
      "execution_count": 8,
      "outputs": [
        {
          "output_type": "execute_result",
          "data": {
            "text/html": [
              "<div>\n",
              "<style scoped>\n",
              "    .dataframe tbody tr th:only-of-type {\n",
              "        vertical-align: middle;\n",
              "    }\n",
              "\n",
              "    .dataframe tbody tr th {\n",
              "        vertical-align: top;\n",
              "    }\n",
              "\n",
              "    .dataframe thead th {\n",
              "        text-align: right;\n",
              "    }\n",
              "</style>\n",
              "<table border=\"1\" class=\"dataframe\">\n",
              "  <thead>\n",
              "    <tr style=\"text-align: right;\">\n",
              "      <th></th>\n",
              "      <th>category</th>\n",
              "      <th>event_name</th>\n",
              "      <th>gender</th>\n",
              "      <th>age</th>\n",
              "      <th>marital_status</th>\n",
              "      <th>session_id</th>\n",
              "      <th>device</th>\n",
              "      <th>client_time</th>\n",
              "      <th>location.latitude</th>\n",
              "      <th>location.city</th>\n",
              "      <th>location.state</th>\n",
              "      <th>location.longitude</th>\n",
              "      <th>location.zip_code</th>\n",
              "      <th>amount</th>\n",
              "    </tr>\n",
              "  </thead>\n",
              "  <tbody>\n",
              "    <tr>\n",
              "      <th>count</th>\n",
              "      <td>50000</td>\n",
              "      <td>50000</td>\n",
              "      <td>50000</td>\n",
              "      <td>50000</td>\n",
              "      <td>50000</td>\n",
              "      <td>50000</td>\n",
              "      <td>50000</td>\n",
              "      <td>5.000000e+04</td>\n",
              "      <td>50000.000000</td>\n",
              "      <td>50000</td>\n",
              "      <td>50000</td>\n",
              "      <td>50000.000000</td>\n",
              "      <td>50000</td>\n",
              "      <td>20658.000000</td>\n",
              "    </tr>\n",
              "    <tr>\n",
              "      <th>unique</th>\n",
              "      <td>5</td>\n",
              "      <td>2</td>\n",
              "      <td>3</td>\n",
              "      <td>5</td>\n",
              "      <td>2</td>\n",
              "      <td>10466</td>\n",
              "      <td>2</td>\n",
              "      <td>NaN</td>\n",
              "      <td>NaN</td>\n",
              "      <td>2887</td>\n",
              "      <td>51</td>\n",
              "      <td>NaN</td>\n",
              "      <td>4959</td>\n",
              "      <td>NaN</td>\n",
              "    </tr>\n",
              "    <tr>\n",
              "      <th>top</th>\n",
              "      <td>Sports</td>\n",
              "      <td>View Project</td>\n",
              "      <td>F</td>\n",
              "      <td>18-24</td>\n",
              "      <td>married</td>\n",
              "      <td>f396a9f77e3a4113b6f228f64d3afd48</td>\n",
              "      <td>iOS</td>\n",
              "      <td>NaN</td>\n",
              "      <td>NaN</td>\n",
              "      <td>Atlanta</td>\n",
              "      <td>IN</td>\n",
              "      <td>NaN</td>\n",
              "      <td>97034</td>\n",
              "      <td>NaN</td>\n",
              "    </tr>\n",
              "    <tr>\n",
              "      <th>freq</th>\n",
              "      <td>10099</td>\n",
              "      <td>29342</td>\n",
              "      <td>23291</td>\n",
              "      <td>24395</td>\n",
              "      <td>32083</td>\n",
              "      <td>27</td>\n",
              "      <td>32287</td>\n",
              "      <td>NaN</td>\n",
              "      <td>NaN</td>\n",
              "      <td>6341</td>\n",
              "      <td>8909</td>\n",
              "      <td>NaN</td>\n",
              "      <td>1646</td>\n",
              "      <td>NaN</td>\n",
              "    </tr>\n",
              "    <tr>\n",
              "      <th>mean</th>\n",
              "      <td>NaN</td>\n",
              "      <td>NaN</td>\n",
              "      <td>NaN</td>\n",
              "      <td>NaN</td>\n",
              "      <td>NaN</td>\n",
              "      <td>NaN</td>\n",
              "      <td>NaN</td>\n",
              "      <td>1.394693e+09</td>\n",
              "      <td>38.560903</td>\n",
              "      <td>NaN</td>\n",
              "      <td>NaN</td>\n",
              "      <td>-95.062317</td>\n",
              "      <td>NaN</td>\n",
              "      <td>39.407009</td>\n",
              "    </tr>\n",
              "    <tr>\n",
              "      <th>std</th>\n",
              "      <td>NaN</td>\n",
              "      <td>NaN</td>\n",
              "      <td>NaN</td>\n",
              "      <td>NaN</td>\n",
              "      <td>NaN</td>\n",
              "      <td>NaN</td>\n",
              "      <td>NaN</td>\n",
              "      <td>7.803889e+05</td>\n",
              "      <td>4.739123</td>\n",
              "      <td>NaN</td>\n",
              "      <td>NaN</td>\n",
              "      <td>16.156971</td>\n",
              "      <td>NaN</td>\n",
              "      <td>14.913658</td>\n",
              "    </tr>\n",
              "    <tr>\n",
              "      <th>min</th>\n",
              "      <td>NaN</td>\n",
              "      <td>NaN</td>\n",
              "      <td>NaN</td>\n",
              "      <td>NaN</td>\n",
              "      <td>NaN</td>\n",
              "      <td>NaN</td>\n",
              "      <td>NaN</td>\n",
              "      <td>1.393632e+09</td>\n",
              "      <td>20.832664</td>\n",
              "      <td>NaN</td>\n",
              "      <td>NaN</td>\n",
              "      <td>-168.021815</td>\n",
              "      <td>NaN</td>\n",
              "      <td>1.000000</td>\n",
              "    </tr>\n",
              "    <tr>\n",
              "      <th>25%</th>\n",
              "      <td>NaN</td>\n",
              "      <td>NaN</td>\n",
              "      <td>NaN</td>\n",
              "      <td>NaN</td>\n",
              "      <td>NaN</td>\n",
              "      <td>NaN</td>\n",
              "      <td>NaN</td>\n",
              "      <td>1.393995e+09</td>\n",
              "      <td>33.834989</td>\n",
              "      <td>NaN</td>\n",
              "      <td>NaN</td>\n",
              "      <td>-105.355280</td>\n",
              "      <td>NaN</td>\n",
              "      <td>29.000000</td>\n",
              "    </tr>\n",
              "    <tr>\n",
              "      <th>50%</th>\n",
              "      <td>NaN</td>\n",
              "      <td>NaN</td>\n",
              "      <td>NaN</td>\n",
              "      <td>NaN</td>\n",
              "      <td>NaN</td>\n",
              "      <td>NaN</td>\n",
              "      <td>NaN</td>\n",
              "      <td>1.394553e+09</td>\n",
              "      <td>39.726493</td>\n",
              "      <td>NaN</td>\n",
              "      <td>NaN</td>\n",
              "      <td>-86.920609</td>\n",
              "      <td>NaN</td>\n",
              "      <td>39.000000</td>\n",
              "    </tr>\n",
              "    <tr>\n",
              "      <th>75%</th>\n",
              "      <td>NaN</td>\n",
              "      <td>NaN</td>\n",
              "      <td>NaN</td>\n",
              "      <td>NaN</td>\n",
              "      <td>NaN</td>\n",
              "      <td>NaN</td>\n",
              "      <td>NaN</td>\n",
              "      <td>1.395321e+09</td>\n",
              "      <td>40.979612</td>\n",
              "      <td>NaN</td>\n",
              "      <td>NaN</td>\n",
              "      <td>-84.392026</td>\n",
              "      <td>NaN</td>\n",
              "      <td>50.000000</td>\n",
              "    </tr>\n",
              "    <tr>\n",
              "      <th>max</th>\n",
              "      <td>NaN</td>\n",
              "      <td>NaN</td>\n",
              "      <td>NaN</td>\n",
              "      <td>NaN</td>\n",
              "      <td>NaN</td>\n",
              "      <td>NaN</td>\n",
              "      <td>NaN</td>\n",
              "      <td>1.396310e+09</td>\n",
              "      <td>63.543571</td>\n",
              "      <td>NaN</td>\n",
              "      <td>NaN</td>\n",
              "      <td>-67.462470</td>\n",
              "      <td>NaN</td>\n",
              "      <td>101.000000</td>\n",
              "    </tr>\n",
              "  </tbody>\n",
              "</table>\n",
              "</div>"
            ],
            "text/plain": [
              "       category    event_name  ... location.zip_code        amount\n",
              "count     50000         50000  ...             50000  20658.000000\n",
              "unique        5             2  ...              4959           NaN\n",
              "top      Sports  View Project  ...             97034           NaN\n",
              "freq      10099         29342  ...              1646           NaN\n",
              "mean        NaN           NaN  ...               NaN     39.407009\n",
              "std         NaN           NaN  ...               NaN     14.913658\n",
              "min         NaN           NaN  ...               NaN      1.000000\n",
              "25%         NaN           NaN  ...               NaN     29.000000\n",
              "50%         NaN           NaN  ...               NaN     39.000000\n",
              "75%         NaN           NaN  ...               NaN     50.000000\n",
              "max         NaN           NaN  ...               NaN    101.000000\n",
              "\n",
              "[11 rows x 14 columns]"
            ]
          },
          "metadata": {
            "tags": []
          },
          "execution_count": 8
        }
      ]
    },
    {
      "cell_type": "code",
      "metadata": {
        "id": "g3o4TMN9dgMn",
        "colab_type": "code",
        "colab": {
          "base_uri": "https://localhost:8080/",
          "height": 70
        },
        "outputId": "631f5e8b-ca47-4705-906e-74fb94852ba8"
      },
      "source": [
        "import matplotlib.pyplot as plt\n",
        "import seaborn as sb"
      ],
      "execution_count": 9,
      "outputs": [
        {
          "output_type": "stream",
          "text": [
            "/usr/local/lib/python3.6/dist-packages/statsmodels/tools/_testing.py:19: FutureWarning: pandas.util.testing is deprecated. Use the functions in the public API at pandas.testing instead.\n",
            "  import pandas.util.testing as tm\n"
          ],
          "name": "stderr"
        }
      ]
    },
    {
      "cell_type": "code",
      "metadata": {
        "id": "4vHVYMks1ZfN",
        "colab_type": "code",
        "colab": {}
      },
      "source": [
        "c = [\"Sports\", \"Environment\"]\n",
        "index_new = df[~df.category.isin(c)].index\n",
        "df.drop(index_new , inplace=True)\n",
        "df = df.reset_index(drop=True)"
      ],
      "execution_count": 10,
      "outputs": []
    },
    {
      "cell_type": "code",
      "metadata": {
        "id": "NngfX2nj3LPx",
        "colab_type": "code",
        "colab": {}
      },
      "source": [
        "df.drop(['location.latitude','location.longitude','client_time'], axis=1,inplace=True)"
      ],
      "execution_count": 11,
      "outputs": []
    },
    {
      "cell_type": "code",
      "metadata": {
        "id": "ntuC_qz74LNT",
        "colab_type": "code",
        "colab": {
          "base_uri": "https://localhost:8080/",
          "height": 289
        },
        "outputId": "04f40de0-43a6-4bc0-d897-ee26f1b1064a"
      },
      "source": [
        "df.head()"
      ],
      "execution_count": 12,
      "outputs": [
        {
          "output_type": "execute_result",
          "data": {
            "text/html": [
              "<div>\n",
              "<style scoped>\n",
              "    .dataframe tbody tr th:only-of-type {\n",
              "        vertical-align: middle;\n",
              "    }\n",
              "\n",
              "    .dataframe tbody tr th {\n",
              "        vertical-align: top;\n",
              "    }\n",
              "\n",
              "    .dataframe thead th {\n",
              "        text-align: right;\n",
              "    }\n",
              "</style>\n",
              "<table border=\"1\" class=\"dataframe\">\n",
              "  <thead>\n",
              "    <tr style=\"text-align: right;\">\n",
              "      <th></th>\n",
              "      <th>category</th>\n",
              "      <th>event_name</th>\n",
              "      <th>gender</th>\n",
              "      <th>age</th>\n",
              "      <th>marital_status</th>\n",
              "      <th>session_id</th>\n",
              "      <th>device</th>\n",
              "      <th>location.city</th>\n",
              "      <th>location.state</th>\n",
              "      <th>location.zip_code</th>\n",
              "      <th>amount</th>\n",
              "    </tr>\n",
              "  </thead>\n",
              "  <tbody>\n",
              "    <tr>\n",
              "      <th>0</th>\n",
              "      <td>Sports</td>\n",
              "      <td>View Project</td>\n",
              "      <td>M</td>\n",
              "      <td>18-24</td>\n",
              "      <td>married</td>\n",
              "      <td>69f62d2ae87640f5a2dde2b2e9229fe6</td>\n",
              "      <td>android</td>\n",
              "      <td>Lyons</td>\n",
              "      <td>CO</td>\n",
              "      <td>80540</td>\n",
              "      <td>NaN</td>\n",
              "    </tr>\n",
              "    <tr>\n",
              "      <th>1</th>\n",
              "      <td>Environment</td>\n",
              "      <td>View Project</td>\n",
              "      <td>M</td>\n",
              "      <td>55+</td>\n",
              "      <td>single</td>\n",
              "      <td>0db9ed700a184d48a9d04806696e3642</td>\n",
              "      <td>iOS</td>\n",
              "      <td>Westford</td>\n",
              "      <td>MA</td>\n",
              "      <td>01886</td>\n",
              "      <td>NaN</td>\n",
              "    </tr>\n",
              "    <tr>\n",
              "      <th>2</th>\n",
              "      <td>Sports</td>\n",
              "      <td>View Project</td>\n",
              "      <td>F</td>\n",
              "      <td>25-34</td>\n",
              "      <td>married</td>\n",
              "      <td>9508a8385dc94773baba8aa7d1c2aa75</td>\n",
              "      <td>iOS</td>\n",
              "      <td>Lampe</td>\n",
              "      <td>MO</td>\n",
              "      <td>65681</td>\n",
              "      <td>NaN</td>\n",
              "    </tr>\n",
              "    <tr>\n",
              "      <th>3</th>\n",
              "      <td>Sports</td>\n",
              "      <td>View Project</td>\n",
              "      <td>F</td>\n",
              "      <td>18-24</td>\n",
              "      <td>married</td>\n",
              "      <td>a1fdfe0bebed4510a9059bcfb3ba1325</td>\n",
              "      <td>iOS</td>\n",
              "      <td>Atlanta</td>\n",
              "      <td>GA</td>\n",
              "      <td>30308</td>\n",
              "      <td>NaN</td>\n",
              "    </tr>\n",
              "    <tr>\n",
              "      <th>4</th>\n",
              "      <td>Sports</td>\n",
              "      <td>Fund Project</td>\n",
              "      <td>M</td>\n",
              "      <td>18-24</td>\n",
              "      <td>married</td>\n",
              "      <td>69f62d2ae87640f5a2dde2b2e9229fe6</td>\n",
              "      <td>android</td>\n",
              "      <td>Lyons</td>\n",
              "      <td>CO</td>\n",
              "      <td>80540</td>\n",
              "      <td>31.0</td>\n",
              "    </tr>\n",
              "  </tbody>\n",
              "</table>\n",
              "</div>"
            ],
            "text/plain": [
              "      category    event_name gender  ... location.state location.zip_code amount\n",
              "0       Sports  View Project      M  ...             CO             80540    NaN\n",
              "1  Environment  View Project      M  ...             MA             01886    NaN\n",
              "2       Sports  View Project      F  ...             MO             65681    NaN\n",
              "3       Sports  View Project      F  ...             GA             30308    NaN\n",
              "4       Sports  Fund Project      M  ...             CO             80540   31.0\n",
              "\n",
              "[5 rows x 11 columns]"
            ]
          },
          "metadata": {
            "tags": []
          },
          "execution_count": 12
        }
      ]
    },
    {
      "cell_type": "code",
      "metadata": {
        "id": "FbtwH1CS6_U0",
        "colab_type": "code",
        "colab": {
          "base_uri": "https://localhost:8080/",
          "height": 298
        },
        "outputId": "674e021f-8c61-4d8b-dac2-0e257e60e198"
      },
      "source": [
        "age_class = df.groupby(['age','gender'])[\"amount\"].count().unstack(\"gender\")\n",
        "age_class.plot.barh(title=\"Amount($) Spent across Age groups\")"
      ],
      "execution_count": 56,
      "outputs": [
        {
          "output_type": "execute_result",
          "data": {
            "text/plain": [
              "<matplotlib.axes._subplots.AxesSubplot at 0x7ffb2c2d2f98>"
            ]
          },
          "metadata": {
            "tags": []
          },
          "execution_count": 56
        },
        {
          "output_type": "display_data",
          "data": {
            "image/png": "[encoded data removed]",
            "text/plain": [
              "<Figure size 432x288 with 1 Axes>"
            ]
          },
          "metadata": {
            "tags": [],
            "needs_background": "light"
          }
        }
      ]
    },
    {
      "cell_type": "code",
      "metadata": {
        "id": "T1La2wRqTMQ-",
        "colab_type": "code",
        "colab": {
          "base_uri": "https://localhost:8080/",
          "height": 317
        },
        "outputId": "62865402-f1e1-4e65-feee-b82b68a4afaf"
      },
      "source": [
        "by_state = df.groupby(['location.state']).count()\n",
        "by_state_Amt = by_state[by_state['amount'] > 400].amount\n",
        "by_state_Amt.plot.bar(title=\"Number of fundings vs State\")"
      ],
      "execution_count": 14,
      "outputs": [
        {
          "output_type": "execute_result",
          "data": {
            "text/plain": [
              "<matplotlib.axes._subplots.AxesSubplot at 0x7ffb301d9400>"
            ]
          },
          "metadata": {
            "tags": []
          },
          "execution_count": 14
        },
        {
          "output_type": "display_data",
          "data": {
            "image/png": "[encoded data removed]",
            "text/plain": [
              "<Figure size 432x288 with 1 Axes>"
            ]
          },
          "metadata": {
            "tags": [],
            "needs_background": "light"
          }
        }
      ]
    },
    {
      "cell_type": "code",
      "metadata": {
        "id": "YEhW3nXgmyqm",
        "colab_type": "code",
        "colab": {
          "base_uri": "https://localhost:8080/",
          "height": 317
        },
        "outputId": "dff6a8dd-c1a3-44f1-fd33-9a37ca7e9c03"
      },
      "source": [
        "by_state_fund = df.groupby(['location.state']).sum()\n",
        "by_state_fund = by_state[by_state_fund['amount'] > 7000].amount\n",
        "by_state_fund.plot.bar(title=\"No of fundings vs State\")"
      ],
      "execution_count": 15,
      "outputs": [
        {
          "output_type": "execute_result",
          "data": {
            "text/plain": [
              "<matplotlib.axes._subplots.AxesSubplot at 0x7ffb2fcde0f0>"
            ]
          },
          "metadata": {
            "tags": []
          },
          "execution_count": 15
        },
        {
          "output_type": "display_data",
          "data": {
            "image/png": "[encoded data removed]",
            "text/plain": [
              "<Figure size 432x288 with 1 Axes>"
            ]
          },
          "metadata": {
            "tags": [],
            "needs_background": "light"
          }
        }
      ]
    },
    {
      "cell_type": "code",
      "metadata": {
        "id": "U7TC2eHpQ2vr",
        "colab_type": "code",
        "colab": {
          "base_uri": "https://localhost:8080/",
          "height": 342
        },
        "outputId": "c087a87b-e915-4c62-b971-0d7be1c03854"
      },
      "source": [
        "by_marital_status = df.groupby(['event_name','marital_status']).size().unstack(\"event_name\")\n",
        "by_marital_status.plot.bar(title=\"Relation between Martial Staus and Event Type\")"
      ],
      "execution_count": null,
      "outputs": [
        {
          "output_type": "execute_result",
          "data": {
            "text/plain": [
              "<matplotlib.axes._subplots.AxesSubplot at 0x7ffb2e0406d8>"
            ]
          },
          "metadata": {
            "tags": []
          },
          "execution_count": 32
        },
        {
          "output_type": "display_data",
          "data": {
            "image/png": "[encoded data removed]",
            "text/plain": [
              "<Figure size 432x288 with 1 Axes>"
            ]
          },
          "metadata": {
            "tags": [],
            "needs_background": "light"
          }
        }
      ]
    },
    {
      "cell_type": "code",
      "metadata": {
        "id": "gCCSuOy6ZD7x",
        "colab_type": "code",
        "colab": {
          "base_uri": "https://localhost:8080/",
          "height": 295
        },
        "outputId": "0827cd10-2219-43e3-c3ea-55950a81db3b"
      },
      "source": [
        "by_device = df.groupby(['device'])[\"amount\"].sum()\n",
        "plt.bar(by_device.index,by_device.values,width=0.3)\n",
        "plt.title(\"Amount($) v/s Device\")\n",
        "plt.xlabel(\"Devices\")\n",
        "plt.ylabel(\"Amount($)\")\n",
        "plt.show()"
      ],
      "execution_count": 55,
      "outputs": [
        {
          "output_type": "display_data",
          "data": {
            "image/png": "[encoded data removed]",
            "text/plain": [
              "<Figure size 432x288 with 1 Axes>"
            ]
          },
          "metadata": {
            "tags": [],
            "needs_background": "light"
          }
        }
      ]
    },
    {
      "cell_type": "code",
      "metadata": {
        "id": "s6GEaLqXbaK0",
        "colab_type": "code",
        "colab": {}
      },
      "source": [
        "# Conclusion:\n",
        "# Our ideal customer segment is a person who is:\n",
        "# 1) Female \n",
        "# 2)Between the ages of 18-24 years.\n",
        "# 3)Is Married\n",
        "# 4)Operates an iOS device.\n",
        "# 5)Lives in the any of the states of California,Georgia,Colorado and Indiana. "
      ],
      "execution_count": null,
      "outputs": []
    }
  ]
}